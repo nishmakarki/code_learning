{
 "cells": [
  {
   "cell_type": "code",
   "execution_count": 20,
   "metadata": {},
   "outputs": [],
   "source": [
    "import pandas as pd\n",
    "import os"
   ]
  },
  {
   "cell_type": "code",
   "execution_count": 64,
   "metadata": {},
   "outputs": [],
   "source": [
    "def metadata_extract(file_name, library):\n",
    "    isotope_file = pd.read_excel(file_name)\n",
    "\n",
    "    # Iterate over the static copy of the keys\n",
    "    for column_name in list(library.keys()):\n",
    "        if column_name in isotope_file.columns:\n",
    "            value = isotope_file[column_name].iloc[0] if not isotope_file[column_name].empty else None\n",
    "            library[column_name].append(value)\n",
    "\n",
    "            # Handle 'Sample Date end' separately\n",
    "            if column_name == 'Sample Date':\n",
    "                # Ensure 'Sample Date end' exists\n",
    "                if 'Sample Date end' not in library:\n",
    "                    library['Sample Date end'] = []\n",
    "\n",
    "                # Append the last date only if the column is non-empty\n",
    "                end_date = isotope_file[column_name].iloc[-1] if not isotope_file[column_name].empty else None\n",
    "                library['Sample Date end'].append(end_date)\n",
    "        \n",
    "\n",
    "    return library"
   ]
  },
  {
   "cell_type": "code",
   "execution_count": 65,
   "metadata": {},
   "outputs": [
    {
     "data": {
      "text/plain": [
       "{'Project Region': ['Australia (various sites)',\n",
       "  'Australia (various sites)',\n",
       "  'South Africa (various sites)',\n",
       "  'South Africa (various sites)'],\n",
       " 'Sample Site Name': ['PERTH',\n",
       "  'PERTH',\n",
       "  'CAPE TOWN AIRPORT',\n",
       "  'CAPE TOWN AIRPORT'],\n",
       " 'Latitude': [-31.95, -31.95, -33.97, -33.97],\n",
       " 'Longitude': [115.97, 115.97, 18.6, 18.6],\n",
       " 'Altitude': [17, 17, 44, 44],\n",
       " 'Sample Date': ['1962-02-15T00:00:00.0000000+01:00',\n",
       "  '1962-02-15T00:00:00.0000000+01:00',\n",
       "  '1961-04-15T00:00:00.0000000+02:00',\n",
       "  '1961-04-15T00:00:00.0000000+02:00'],\n",
       " 'Measurand Symbol': ['H2', 'O18', 'H2', 'O18'],\n",
       " 'Sample Date end': ['2014-11-15T00:00:00.0000000+01:00',\n",
       "  '2014-11-15T00:00:00.0000000+01:00',\n",
       "  '2012-11-15T00:00:00.0000000+01:00',\n",
       "  '2012-11-15T00:00:00.0000000+01:00']}"
      ]
     },
     "execution_count": 65,
     "metadata": {},
     "output_type": "execute_result"
    }
   ],
   "source": [
    "extracted_data = {\n",
    "    'Project Region': [],\n",
    "    'Sample Site Name': [],\n",
    "    'Latitude': [],\n",
    "    'Longitude': [],\n",
    "    'Altitude': [],\n",
    "    'Sample Date': [],\n",
    "    'Measurand Symbol': []\n",
    "}\n",
    "\n",
    "\n",
    "directory_path='E:/nishma/Isotope_project'      #yo filepath change garna parcha # change \\ to /\n",
    "\n",
    "for filename in os.listdir(directory_path):\n",
    "    if filename.endswith('.xlsx'):\n",
    "        file_path = os.path.join(directory_path, filename)\n",
    "        metadata=metadata_extract(file_path,extracted_data)\n",
    "\n",
    "metadata"
   ]
  },
  {
   "cell_type": "code",
   "execution_count": 51,
   "metadata": {},
   "outputs": [
    {
     "name": "stdout",
     "output_type": "stream",
     "text": [
      "Fruit\n",
      "ball\n"
     ]
    }
   ],
   "source": [
    "library_practise={'Fruit':['apple','mango'],\n",
    "                  'ball':['basketball','volleyball']\n",
    "                  }\n",
    "\n",
    "for k_bolaudaichu in list(library_practise.keys()):\n",
    "    print(k_bolaudaichu)"
   ]
  }
 ],
 "metadata": {
  "kernelspec": {
   "display_name": "Python 3",
   "language": "python",
   "name": "python3"
  },
  "language_info": {
   "codemirror_mode": {
    "name": "ipython",
    "version": 3
   },
   "file_extension": ".py",
   "mimetype": "text/x-python",
   "name": "python",
   "nbconvert_exporter": "python",
   "pygments_lexer": "ipython3",
   "version": "3.12.8"
  }
 },
 "nbformat": 4,
 "nbformat_minor": 2
}
