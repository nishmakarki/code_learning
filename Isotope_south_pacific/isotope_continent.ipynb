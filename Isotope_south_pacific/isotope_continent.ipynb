{
 "cells": [
  {
   "cell_type": "code",
   "execution_count": 2,
   "metadata": {},
   "outputs": [],
   "source": [
    "import pandas as pd\n",
    "import os"
   ]
  },
  {
   "cell_type": "code",
   "execution_count": 3,
   "metadata": {},
   "outputs": [],
   "source": [
    "isotope_file=pd.read_excel(\"H2_file-973345761727956.xlsx\")"
   ]
  },
  {
   "cell_type": "code",
   "execution_count": 30,
   "metadata": {},
   "outputs": [],
   "source": [
    "project_sites=pd.unique(isotope_file['Sample Site Name'])\n",
    "\n",
    "metadata_library = {\n",
    "    'Project Region':[],\n",
    "    'Sample Site Name': [],\n",
    "    'Latitude': [],\n",
    "    'Longitude': [],\n",
    "    'Altitude': [],\n",
    "    'Measurand Symbol': [],\n",
    "    'Sample Date start': [],\n",
    "    'Sample Date end': []\n",
    "}"
   ]
  },
  {
   "cell_type": "code",
   "execution_count": null,
   "metadata": {},
   "outputs": [],
   "source": [
    "for site in project_sites:\n",
    "    # Filter rows corresponding to the current site\n",
    "    site_data = isotope_file[isotope_file['Sample Site Name'] == site]\n",
    "    \n",
    "    # Extract relevant information\n",
    "    metadata_library['Countries/territories'].append(site_data['Countries/territories'].iloc[0] if 'Countries/territories' in site_data.columns else None)\n",
    "    metadata_library['Project Region'].append(site_data['Project Region'].iloc[0] if 'Project Region' in site_data.columns else None)\n",
    "    metadata_library['Sample Site Name'].append(site)\n",
    "    metadata_library['Latitude'].append(site_data['Latitude'].iloc[0] if 'Latitude' in site_data.columns else None)\n",
    "    metadata_library['Longitude'].append(site_data['Longitude'].iloc[0] if 'Longitude' in site_data.columns else None)\n",
    "    metadata_library['Altitude'].append(site_data['Altitude'].iloc[0] if 'Altitude' in site_data.columns else None)\n",
    "    metadata_library['Measurand Symbol'].append(site_data['Measurand Symbol'].iloc[0] if 'Measurand Symbol' in site_data.columns else None)\n",
    "    metadata_library['Sample Date start'].append(site_data['Sample Date'].iloc[0] if 'Sample Date' in site_data.columns else None)\n",
    "    metadata_library['Sample Date end'].append(site_data['Sample Date'].iloc[-1] if 'Sample Date' in site_data.columns else None)\n"
   ]
  },
  {
   "cell_type": "code",
   "execution_count": 33,
   "metadata": {},
   "outputs": [],
   "source": [
    "metadata_library_df=pd.DataFrame(metadata_library)\n",
    "metadata_library_df.to_excel('Metadata_H2.xlsx',index=False)"
   ]
  }
 ],
 "metadata": {
  "kernelspec": {
   "display_name": "Python 3",
   "language": "python",
   "name": "python3"
  },
  "language_info": {
   "codemirror_mode": {
    "name": "ipython",
    "version": 3
   },
   "file_extension": ".py",
   "mimetype": "text/x-python",
   "name": "python",
   "nbconvert_exporter": "python",
   "pygments_lexer": "ipython3",
   "version": "3.12.8"
  }
 },
 "nbformat": 4,
 "nbformat_minor": 2
}
