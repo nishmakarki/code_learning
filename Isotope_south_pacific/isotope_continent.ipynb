{
 "cells": [
  {
   "cell_type": "code",
   "execution_count": null,
   "metadata": {},
   "outputs": [],
   "source": [
    "import pandas as pd\n",
    "import os"
   ]
  },
  {
   "cell_type": "code",
   "execution_count": null,
   "metadata": {},
   "outputs": [],
   "source": [
    "isotope_file_H2=pd.read_excel(\"H2_file.xlsx\")\n",
    "isotope_file_O18=pd.read_excel(\"O18_file.xlsx\")"
   ]
  },
  {
   "cell_type": "code",
   "execution_count": 60,
   "metadata": {},
   "outputs": [],
   "source": [
    "project_sites=pd.unique(isotope_file_H2['Sample Site Name'])\n",
    "\n",
    "metadata_library = {\n",
    "    \"Countries/territories\":[],\n",
    "    'Project Region':[],\n",
    "    'Sample Site Name': [],\n",
    "    'Latitude': [],\n",
    "    'Longitude': [],\n",
    "    'Altitude': [],\n",
    "    'Measurand Symbol': [],\n",
    "    'Sample Date start H2': [],\n",
    "    'Sample Date end H2': [],\n",
    "    'Sample Date start O18': [],\n",
    "    'Sample Date end O18': []\n",
    "}"
   ]
  },
  {
   "cell_type": "code",
   "execution_count": 61,
   "metadata": {},
   "outputs": [],
   "source": [
    "for site in project_sites:\n",
    "    # Filter rows corresponding to the current site\n",
    "    site_data_H2 = isotope_file_H2[isotope_file_H2['Sample Site Name'] == site]\n",
    "    site_data_O18 = isotope_file_O18[isotope_file_O18['Sample Site Name'] == site]\n",
    "    \n",
    "    # Extract relevant information\n",
    "    metadata_library['Countries/territories'].append(site_data_H2['Countries/territories'].iloc[0])\n",
    "    metadata_library['Project Region'].append(site_data_H2['Project Region'].iloc[0] if 'Project Region' in site_data_H2.columns else None)\n",
    "    metadata_library['Sample Site Name'].append(site)\n",
    "    metadata_library['Latitude'].append(site_data_H2['Latitude'].iloc[0] if 'Latitude' in site_data_H2.columns else None)\n",
    "    metadata_library['Longitude'].append(site_data_H2['Longitude'].iloc[0] if 'Longitude' in site_data_H2.columns else None)\n",
    "    metadata_library['Altitude'].append(site_data_H2['Altitude'].iloc[0] if 'Altitude' in site_data_H2.columns else None)\n",
    "    metadata_library['Measurand Symbol'].append(site_data_H2['Measurand Symbol'].iloc[0] if 'Measurand Symbol' in site_data_H2.columns else None)\n",
    "    metadata_library['Sample Date start H2'].append(site_data_H2['Sample Date'].iloc[0] if 'Sample Date' in site_data_H2.columns else None)\n",
    "    metadata_library['Sample Date end H2'].append(site_data_H2['Sample Date'].iloc[-1] if 'Sample Date' in site_data_H2.columns else None)\n",
    "    metadata_library['Sample Date start O18'].append(site_data_O18['Sample Date'].iloc[0] if 'Sample Date' in site_data_O18.columns else None)\n",
    "    metadata_library['Sample Date end O18'].append(site_data_O18['Sample Date'].iloc[-1] if 'Sample Date' in site_data_O18.columns else None)\n",
    "\n",
    "\n"
   ]
  },
  {
   "cell_type": "code",
   "execution_count": 63,
   "metadata": {},
   "outputs": [],
   "source": [
    "metadata_library_df=pd.DataFrame(metadata_library)\n",
    "metadata_library_df.to_excel(f\"Metadata_{metadata_library_df['Countries/territories'].iloc[0]}.xlsx\",index=False)\n"
   ]
  },
  {
   "cell_type": "code",
   "execution_count": null,
   "metadata": {},
   "outputs": [],
   "source": []
  }
 ],
 "metadata": {
  "kernelspec": {
   "display_name": "Python 3",
   "language": "python",
   "name": "python3"
  },
  "language_info": {
   "codemirror_mode": {
    "name": "ipython",
    "version": 3
   },
   "file_extension": ".py",
   "mimetype": "text/x-python",
   "name": "python",
   "nbconvert_exporter": "python",
   "pygments_lexer": "ipython3",
   "version": "3.12.8"
  }
 },
 "nbformat": 4,
 "nbformat_minor": 2
}
