{
 "cells": [
  {
   "cell_type": "code",
   "execution_count": 4,
   "metadata": {},
   "outputs": [],
   "source": [
    "\n",
    "import pandas as pd"
   ]
  },
  {
   "cell_type": "code",
   "execution_count": 6,
   "metadata": {},
   "outputs": [],
   "source": [
    "df=pd.read_csv(\"Layer_10m_depth.csv\")"
   ]
  },
  {
   "cell_type": "code",
   "execution_count": 14,
   "metadata": {},
   "outputs": [
    {
     "data": {
      "text/plain": [
       "0      2775140.834\n",
       "1      2734782.458\n",
       "2      2750145.304\n",
       "3      2717196.741\n",
       "4      2741099.129\n",
       "          ...     \n",
       "125    2664578.186\n",
       "126    2634502.933\n",
       "127    2633122.210\n",
       "128    2681595.667\n",
       "129    2787516.569\n",
       "Name: Y_UTM46N, Length: 130, dtype: float64"
      ]
     },
     "execution_count": 14,
     "metadata": {},
     "output_type": "execute_result"
    }
   ],
   "source": [
    "df.head()\n",
    "df.columns\n",
    "df[\"Y_UTM46N\"]"
   ]
  },
  {
   "cell_type": "markdown",
   "metadata": {},
   "source": [
    "<h1>Giving dataframe/variable</h1>"
   ]
  },
  {
   "cell_type": "code",
   "execution_count": 28,
   "metadata": {},
   "outputs": [],
   "source": [
    "#this gives data from one dataframe to another dataframe/variable\n",
    "a=['StationID']\n",
    "b=['Lithology','Name']\n",
    "nishma=df[b]\n",
    "karki=df[a]\n"
   ]
  },
  {
   "cell_type": "markdown",
   "metadata": {},
   "source": [
    "<h2>joining two dataframe</h2>"
   ]
  },
  {
   "cell_type": "code",
   "execution_count": 35,
   "metadata": {},
   "outputs": [
    {
     "data": {
      "text/html": [
       "<div>\n",
       "<style scoped>\n",
       "    .dataframe tbody tr th:only-of-type {\n",
       "        vertical-align: middle;\n",
       "    }\n",
       "\n",
       "    .dataframe tbody tr th {\n",
       "        vertical-align: top;\n",
       "    }\n",
       "\n",
       "    .dataframe thead th {\n",
       "        text-align: right;\n",
       "    }\n",
       "</style>\n",
       "<table border=\"1\" class=\"dataframe\">\n",
       "  <thead>\n",
       "    <tr style=\"text-align: right;\">\n",
       "      <th></th>\n",
       "      <th>StationID</th>\n",
       "      <th>Lithology</th>\n",
       "      <th>Name</th>\n",
       "    </tr>\n",
       "  </thead>\n",
       "  <tbody>\n",
       "    <tr>\n",
       "      <th>0</th>\n",
       "      <td>400005</td>\n",
       "      <td>1</td>\n",
       "      <td>BWDB6</td>\n",
       "    </tr>\n",
       "    <tr>\n",
       "      <th>1</th>\n",
       "      <td>400006</td>\n",
       "      <td>1</td>\n",
       "      <td>BWDB7</td>\n",
       "    </tr>\n",
       "    <tr>\n",
       "      <th>2</th>\n",
       "      <td>400007</td>\n",
       "      <td>1</td>\n",
       "      <td>BWDB8</td>\n",
       "    </tr>\n",
       "    <tr>\n",
       "      <th>3</th>\n",
       "      <td>400008</td>\n",
       "      <td>1</td>\n",
       "      <td>BWDB9</td>\n",
       "    </tr>\n",
       "    <tr>\n",
       "      <th>4</th>\n",
       "      <td>400009</td>\n",
       "      <td>1</td>\n",
       "      <td>BWDB10</td>\n",
       "    </tr>\n",
       "    <tr>\n",
       "      <th>...</th>\n",
       "      <td>...</td>\n",
       "      <td>...</td>\n",
       "      <td>...</td>\n",
       "    </tr>\n",
       "    <tr>\n",
       "      <th>125</th>\n",
       "      <td>612661</td>\n",
       "      <td>1</td>\n",
       "      <td>Pabna-3</td>\n",
       "    </tr>\n",
       "    <tr>\n",
       "      <th>126</th>\n",
       "      <td>612715</td>\n",
       "      <td>1</td>\n",
       "      <td>Rajbari-3</td>\n",
       "    </tr>\n",
       "    <tr>\n",
       "      <th>127</th>\n",
       "      <td>612778</td>\n",
       "      <td>1</td>\n",
       "      <td>Rajbari-3</td>\n",
       "    </tr>\n",
       "    <tr>\n",
       "      <th>128</th>\n",
       "      <td>612833</td>\n",
       "      <td>1</td>\n",
       "      <td>Sirajganj-1</td>\n",
       "    </tr>\n",
       "    <tr>\n",
       "      <th>129</th>\n",
       "      <td>981134</td>\n",
       "      <td>1</td>\n",
       "      <td>GA3230001</td>\n",
       "    </tr>\n",
       "  </tbody>\n",
       "</table>\n",
       "<p>130 rows × 3 columns</p>\n",
       "</div>"
      ],
      "text/plain": [
       "     StationID  Lithology         Name\n",
       "0       400005          1        BWDB6\n",
       "1       400006          1        BWDB7\n",
       "2       400007          1        BWDB8\n",
       "3       400008          1        BWDB9\n",
       "4       400009          1       BWDB10\n",
       "..         ...        ...          ...\n",
       "125     612661          1      Pabna-3\n",
       "126     612715          1    Rajbari-3\n",
       "127     612778          1    Rajbari-3\n",
       "128     612833          1  Sirajganj-1\n",
       "129     981134          1    GA3230001\n",
       "\n",
       "[130 rows x 3 columns]"
      ]
     },
     "execution_count": 35,
     "metadata": {},
     "output_type": "execute_result"
    }
   ],
   "source": [
    "nishmakarki=pd.concat([karki,nishma],axis=1)\n",
    "nishmakarki"
   ]
  },
  {
   "cell_type": "markdown",
   "metadata": {},
   "source": [
    "<h2>Giving dataframe/variable:2nd trial</h2>"
   ]
  },
  {
   "cell_type": "code",
   "execution_count": 36,
   "metadata": {},
   "outputs": [
    {
     "data": {
      "text/html": [
       "<div>\n",
       "<style scoped>\n",
       "    .dataframe tbody tr th:only-of-type {\n",
       "        vertical-align: middle;\n",
       "    }\n",
       "\n",
       "    .dataframe tbody tr th {\n",
       "        vertical-align: top;\n",
       "    }\n",
       "\n",
       "    .dataframe thead th {\n",
       "        text-align: right;\n",
       "    }\n",
       "</style>\n",
       "<table border=\"1\" class=\"dataframe\">\n",
       "  <thead>\n",
       "    <tr style=\"text-align: right;\">\n",
       "      <th></th>\n",
       "      <th>StationID</th>\n",
       "      <th>Name</th>\n",
       "      <th>Lithology</th>\n",
       "      <th>X_UTM46N</th>\n",
       "      <th>Y_UTM46N</th>\n",
       "    </tr>\n",
       "  </thead>\n",
       "  <tbody>\n",
       "    <tr>\n",
       "      <th>0</th>\n",
       "      <td>400005</td>\n",
       "      <td>BWDB6</td>\n",
       "      <td>1</td>\n",
       "      <td>109756.09810</td>\n",
       "      <td>2775140.834</td>\n",
       "    </tr>\n",
       "    <tr>\n",
       "      <th>1</th>\n",
       "      <td>400006</td>\n",
       "      <td>BWDB7</td>\n",
       "      <td>1</td>\n",
       "      <td>149159.72680</td>\n",
       "      <td>2734782.458</td>\n",
       "    </tr>\n",
       "    <tr>\n",
       "      <th>2</th>\n",
       "      <td>400007</td>\n",
       "      <td>BWDB8</td>\n",
       "      <td>1</td>\n",
       "      <td>99870.96983</td>\n",
       "      <td>2750145.304</td>\n",
       "    </tr>\n",
       "    <tr>\n",
       "      <th>3</th>\n",
       "      <td>400008</td>\n",
       "      <td>BWDB9</td>\n",
       "      <td>1</td>\n",
       "      <td>169009.16110</td>\n",
       "      <td>2717196.741</td>\n",
       "    </tr>\n",
       "    <tr>\n",
       "      <th>4</th>\n",
       "      <td>400009</td>\n",
       "      <td>BWDB10</td>\n",
       "      <td>1</td>\n",
       "      <td>137218.65940</td>\n",
       "      <td>2741099.129</td>\n",
       "    </tr>\n",
       "    <tr>\n",
       "      <th>...</th>\n",
       "      <td>...</td>\n",
       "      <td>...</td>\n",
       "      <td>...</td>\n",
       "      <td>...</td>\n",
       "      <td>...</td>\n",
       "    </tr>\n",
       "    <tr>\n",
       "      <th>125</th>\n",
       "      <td>612661</td>\n",
       "      <td>Pabna-3</td>\n",
       "      <td>1</td>\n",
       "      <td>150491.64070</td>\n",
       "      <td>2664578.186</td>\n",
       "    </tr>\n",
       "    <tr>\n",
       "      <th>126</th>\n",
       "      <td>612715</td>\n",
       "      <td>Rajbari-3</td>\n",
       "      <td>1</td>\n",
       "      <td>154421.60070</td>\n",
       "      <td>2634502.933</td>\n",
       "    </tr>\n",
       "    <tr>\n",
       "      <th>127</th>\n",
       "      <td>612778</td>\n",
       "      <td>Rajbari-3</td>\n",
       "      <td>1</td>\n",
       "      <td>159896.07590</td>\n",
       "      <td>2633122.210</td>\n",
       "    </tr>\n",
       "    <tr>\n",
       "      <th>128</th>\n",
       "      <td>612833</td>\n",
       "      <td>Sirajganj-1</td>\n",
       "      <td>1</td>\n",
       "      <td>166014.00560</td>\n",
       "      <td>2681595.667</td>\n",
       "    </tr>\n",
       "    <tr>\n",
       "      <th>129</th>\n",
       "      <td>981134</td>\n",
       "      <td>GA3230001</td>\n",
       "      <td>1</td>\n",
       "      <td>137043.36690</td>\n",
       "      <td>2787516.569</td>\n",
       "    </tr>\n",
       "  </tbody>\n",
       "</table>\n",
       "<p>130 rows × 5 columns</p>\n",
       "</div>"
      ],
      "text/plain": [
       "     StationID         Name  Lithology      X_UTM46N     Y_UTM46N\n",
       "0       400005        BWDB6          1  109756.09810  2775140.834\n",
       "1       400006        BWDB7          1  149159.72680  2734782.458\n",
       "2       400007        BWDB8          1   99870.96983  2750145.304\n",
       "3       400008        BWDB9          1  169009.16110  2717196.741\n",
       "4       400009       BWDB10          1  137218.65940  2741099.129\n",
       "..         ...          ...        ...           ...          ...\n",
       "125     612661      Pabna-3          1  150491.64070  2664578.186\n",
       "126     612715    Rajbari-3          1  154421.60070  2634502.933\n",
       "127     612778    Rajbari-3          1  159896.07590  2633122.210\n",
       "128     612833  Sirajganj-1          1  166014.00560  2681595.667\n",
       "129     981134    GA3230001          1  137043.36690  2787516.569\n",
       "\n",
       "[130 rows x 5 columns]"
      ]
     },
     "execution_count": 36,
     "metadata": {},
     "output_type": "execute_result"
    }
   ],
   "source": [
    "a=['StationID']\n",
    "b=['Name','Lithology','X_UTM46N','Y_UTM46N']\n",
    "display1=df[a]\n",
    "display2=df[b]\n",
    "display=pd.concat([display1,display2],axis=1)\n",
    "display\n"
   ]
  },
  {
   "cell_type": "code",
   "execution_count": null,
   "metadata": {},
   "outputs": [
    {
     "ename": "AttributeError",
     "evalue": "'int' object has no attribute 'columns'",
     "output_type": "error",
     "traceback": [
      "\u001b[1;31m---------------------------------------------------------------------------\u001b[0m",
      "\u001b[1;31mAttributeError\u001b[0m                            Traceback (most recent call last)",
      "Cell \u001b[1;32mIn[49], line 1\u001b[0m\n\u001b[1;32m----> 1\u001b[0m \u001b[38;5;28;43mlen\u001b[39;49m\u001b[43m(\u001b[49m\u001b[43mdf\u001b[49m\u001b[43m)\u001b[49m\u001b[38;5;241;43m.\u001b[39;49m\u001b[43mcolumns\u001b[49m\n",
      "\u001b[1;31mAttributeError\u001b[0m: 'int' object has no attribute 'columns'"
     ]
    }
   ],
   "source": [
    "\n",
    "    "
   ]
  },
  {
   "cell_type": "markdown",
   "metadata": {},
   "source": [
    "<h1>new topic</h1>"
   ]
  }
 ],
 "metadata": {
  "kernelspec": {
   "display_name": "Python 3",
   "language": "python",
   "name": "python3"
  },
  "language_info": {
   "codemirror_mode": {
    "name": "ipython",
    "version": 3
   },
   "file_extension": ".py",
   "mimetype": "text/x-python",
   "name": "python",
   "nbconvert_exporter": "python",
   "pygments_lexer": "ipython3",
   "version": "3.12.8"
  }
 },
 "nbformat": 4,
 "nbformat_minor": 2
}
